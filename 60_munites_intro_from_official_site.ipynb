{
 "metadata": {
  "language_info": {
   "codemirror_mode": {
    "name": "ipython",
    "version": 3
   },
   "file_extension": ".py",
   "mimetype": "text/x-python",
   "name": "python",
   "nbconvert_exporter": "python",
   "pygments_lexer": "ipython3",
   "version": "3.6.8-final"
  },
  "orig_nbformat": 2,
  "kernelspec": {
   "name": "python3",
   "display_name": "Python 3",
   "language": "python"
  }
 },
 "nbformat": 4,
 "nbformat_minor": 2,
 "cells": [
  {
   "cell_type": "code",
   "execution_count": 3,
   "metadata": {},
   "outputs": [],
   "source": [
    "import numpy as np\n",
    "import torch"
   ]
  },
  {
   "source": [
    "1. Tensors (torch.Tensor, Tensor Attributes)"
   ],
   "cell_type": "markdown",
   "metadata": {}
  },
  {
   "cell_type": "code",
   "execution_count": 39,
   "metadata": {},
   "outputs": [
    {
     "output_type": "execute_result",
     "data": {
      "text/plain": [
       "(torch.bool, device(type='cpu'), (2, 1))"
      ]
     },
     "metadata": {},
     "execution_count": 39
    }
   ],
   "source": [
    "#from python list or sequence\n",
    "a = [[1_000, 0], [3, 4]]\n",
    "#dtype int8, unsigned int8, int16, int32, int64, float16, float32, float64, boolean\n",
    "x = torch.tensor(a, dtype=torch.bool, device='cpu')\n",
    "x.dtype, x.device, x.stride() #reference to tensor.Storage"
   ]
  },
  {
   "cell_type": "code",
   "execution_count": 45,
   "metadata": {},
   "outputs": [
    {
     "output_type": "execute_result",
     "data": {
      "text/plain": [
       "(-1, device(type='cpu'))"
      ]
     },
     "metadata": {},
     "execution_count": 45
    }
   ],
   "source": [
    "a = np.array([[1_000, 0], [3, 4]])\n",
    "q = torch.as_tensor(a)\n",
    "q[0, 0] = -1\n",
    "a[0, 0], q.device"
   ]
  },
  {
   "cell_type": "code",
   "execution_count": 52,
   "metadata": {},
   "outputs": [
    {
     "output_type": "execute_result",
     "data": {
      "text/plain": [
       "(tensor([[1., 2., 3.]], device='cuda:0'),\n",
       " torch.float32,\n",
       " device(type='cuda', index=0))"
      ]
     },
     "metadata": {},
     "execution_count": 52
    }
   ],
   "source": [
    "v = torch.Tensor()\n",
    "v.dtype #default float32\n",
    "# 9 cpu constructors with specific dtype\n",
    "torch.FloatTensor\n",
    "#x, x.dtype\n",
    "# 9 gpu constructors with specific dtype\n",
    "torch.cuda.FloatTensor"
   ]
  },
  {
   "cell_type": "code",
   "execution_count": 103,
   "metadata": {},
   "outputs": [
    {
     "output_type": "execute_result",
     "data": {
      "text/plain": [
       "((2, 2, 3), array([[2, 4, 6],\n",
       "        [6, 8, 0]]), array([[4, 6, 3],\n",
       "        [4, 6, 3]]), array([[6, 7],\n",
       "        [6, 7]]))"
      ]
     },
     "metadata": {},
     "execution_count": 103
    }
   ],
   "source": [
    "a = np.array([[[1, 2, 3], \n",
    "               [3, 4, 0]],\n",
    "                        [[1, 2, 3], \n",
    "                        [3, 4, 0]]])\n",
    "a.shape, a.sum(axis=0), a.sum(axis=1), a.sum(axis=2)"
   ]
  },
  {
   "cell_type": "code",
   "execution_count": 101,
   "metadata": {},
   "outputs": [
    {
     "output_type": "execute_result",
     "data": {
      "text/plain": [
       "(tensor([4, 6, 3]), tensor([6, 7]))"
      ]
     },
     "metadata": {},
     "execution_count": 101
    }
   ],
   "source": [
    "b = torch.tensor(a)\n",
    "b.sum(dim=0), b.sum(dim=1)"
   ]
  },
  {
   "source": [
    "2. torch.Autograd"
   ],
   "cell_type": "markdown",
   "metadata": {}
  },
  {
   "cell_type": "code",
   "execution_count": 81,
   "metadata": {},
   "outputs": [
    {
     "output_type": "execute_result",
     "data": {
      "text/plain": [
       "tensor([[2., 4., 6.]])"
      ]
     },
     "metadata": {},
     "execution_count": 81
    }
   ],
   "source": [
    "#torch autograd\n",
    "t = torch.tensor([[1, 2, 3]], dtype=torch.float32, requires_grad=True)\n",
    "out = t.pow(2).sum()\n",
    "out.backward()\n",
    "t.grad"
   ]
  }
 ]
}