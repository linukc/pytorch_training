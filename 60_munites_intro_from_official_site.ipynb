{
  "nbformat": 4,
  "nbformat_minor": 0,
  "metadata": {
    "language_info": {
      "codemirror_mode": {
        "name": "ipython",
        "version": 3
      },
      "file_extension": ".py",
      "mimetype": "text/x-python",
      "name": "python",
      "nbconvert_exporter": "python",
      "pygments_lexer": "ipython3",
      "version": "3.6.8-final"
    },
    "orig_nbformat": 2,
    "kernelspec": {
      "name": "python3",
      "display_name": "Python 3",
      "language": "python"
    },
    "colab": {
      "name": "60_munites_intro_from_official_site.ipynb",
      "provenance": []
    }
  },
  "cells": [
    {
      "cell_type": "code",
      "metadata": {
        "id": "gz6zp_F0JPUe"
      },
      "source": [
        "import numpy as np\n",
        "import torch"
      ],
      "execution_count": 19,
      "outputs": []
    },
    {
      "cell_type": "code",
      "metadata": {
        "colab": {
          "base_uri": "https://localhost:8080/",
          "height": 35
        },
        "id": "NK5-Npf4JgCL",
        "outputId": "b6426ca9-2d2a-48e2-ba97-d0b48f80e0e3"
      },
      "source": [
        "torch.__version__"
      ],
      "execution_count": 20,
      "outputs": [
        {
          "output_type": "execute_result",
          "data": {
            "application/vnd.google.colaboratory.intrinsic+json": {
              "type": "string"
            },
            "text/plain": [
              "'1.8.0+cu101'"
            ]
          },
          "metadata": {
            "tags": []
          },
          "execution_count": 20
        }
      ]
    },
    {
      "cell_type": "code",
      "metadata": {
        "colab": {
          "base_uri": "https://localhost:8080/"
        },
        "id": "pry5tiWFJlKD",
        "outputId": "79115c8c-b088-4543-9ac7-4a9c8ea9e24b"
      },
      "source": [
        "torch.cuda.is_available()"
      ],
      "execution_count": 5,
      "outputs": [
        {
          "output_type": "execute_result",
          "data": {
            "text/plain": [
              "False"
            ]
          },
          "metadata": {
            "tags": []
          },
          "execution_count": 5
        }
      ]
    },
    {
      "cell_type": "markdown",
      "metadata": {
        "id": "Ip7BESc9JPUi"
      },
      "source": [
        "1. Tensors (torch.Tensor, Tensor Attributes)"
      ]
    },
    {
      "cell_type": "code",
      "metadata": {
        "colab": {
          "base_uri": "https://localhost:8080/"
        },
        "id": "V1uZLnEtJPUj",
        "outputId": "ea6d0ba2-b176-4af7-9c5f-9a5794f5b569"
      },
      "source": [
        "#from python list or sequence\n",
        "a = [[1_000, 0], [3, 4]]\n",
        "#dtype int8, unsigned int8, int16, int32, int64, float16, float32, float64, boolean\n",
        "x = torch.tensor(a, dtype=torch.bool, device='cpu')\n",
        "x.dtype, x.device, x.stride() #reference to tensor.Storage"
      ],
      "execution_count": 6,
      "outputs": [
        {
          "output_type": "execute_result",
          "data": {
            "text/plain": [
              "(torch.bool, device(type='cpu'), (2, 1))"
            ]
          },
          "metadata": {
            "tags": []
          },
          "execution_count": 6
        }
      ]
    },
    {
      "cell_type": "code",
      "metadata": {
        "colab": {
          "base_uri": "https://localhost:8080/"
        },
        "id": "gt-EyQ_XJPUk",
        "outputId": "c8f46468-babf-451e-80c4-d652084e7e0f"
      },
      "source": [
        "# 9 cpu constructors with specific dtype [torch.FloatTensor ...]\n",
        "# 9 gpu constructors with specific dtype [torch.cuda.FloatTensor ...]"
      ],
      "execution_count": 18,
      "outputs": [
        {
          "output_type": "execute_result",
          "data": {
            "text/plain": [
              "torch.float32"
            ]
          },
          "metadata": {
            "tags": []
          },
          "execution_count": 18
        }
      ]
    },
    {
      "cell_type": "code",
      "metadata": {
        "id": "7u3JYaLSJPUj",
        "outputId": "867d389f-fb3e-4ada-d860-c7cdeb3f603f"
      },
      "source": [
        "# from array_like data\n",
        "a = np.array([[1_000, 0], [3, 4]])\n",
        "q = torch.as_tensor(a) #avoid copy\n",
        "q[0, 0] = -1\n",
        "a[0, 0], q.device\n",
        "#on gpu this trick isn't work"
      ],
      "execution_count": null,
      "outputs": [
        {
          "output_type": "execute_result",
          "data": {
            "text/plain": [
              "(-1, device(type='cpu'))"
            ]
          },
          "metadata": {
            "tags": []
          },
          "execution_count": 45
        }
      ]
    },
    {
      "cell_type": "code",
      "metadata": {
        "id": "5D536HjrT1c4"
      },
      "source": [
        "#from numpy (see bridge section)"
      ],
      "execution_count": null,
      "outputs": []
    },
    {
      "cell_type": "code",
      "metadata": {
        "id": "6ZnFY2xAMmDh",
        "outputId": "0b213cdc-af1e-4a72-aa48-8814c45c21e7",
        "colab": {
          "base_uri": "https://localhost:8080/"
        }
      },
      "source": [
        "#from another tensor\n",
        "data = torch.tensor([[1, 2], [3, 4]])\n",
        "x_ones = torch.ones_like(data)\n",
        "\n",
        "x_rand = torch.rand_like(data, dtype=torch.float16)\n",
        "\n",
        "x_ones, x_ones.dtype, x_rand, x_rand.dtype"
      ],
      "execution_count": 16,
      "outputs": [
        {
          "output_type": "execute_result",
          "data": {
            "text/plain": [
              "(tensor([[1, 1],\n",
              "         [1, 1]]), torch.int64, tensor([[0.7793, 0.8838],\n",
              "         [0.1787, 0.9209]], dtype=torch.float16), torch.float16)"
            ]
          },
          "metadata": {
            "tags": []
          },
          "execution_count": 16
        }
      ]
    },
    {
      "cell_type": "code",
      "metadata": {
        "colab": {
          "base_uri": "https://localhost:8080/"
        },
        "id": "eyRqxW1XJPUk",
        "outputId": "667e6dd9-b5e1-4ebe-dfc7-aeced2006780"
      },
      "source": [
        "#numpy axis is equal to torch dim\n",
        "a = np.array([[[1, 2, 3], \n",
        "               [3, 4, 0]],\n",
        "                        [[1, 2, 3], \n",
        "                        [3, 4, 0]]])\n",
        "a.shape, a.sum(axis=0), a.sum(axis=1), a.sum(axis=2)"
      ],
      "execution_count": 8,
      "outputs": [
        {
          "output_type": "execute_result",
          "data": {
            "text/plain": [
              "((2, 2, 3), array([[2, 4, 6],\n",
              "        [6, 8, 0]]), array([[4, 6, 3],\n",
              "        [4, 6, 3]]), array([[6, 7],\n",
              "        [6, 7]]))"
            ]
          },
          "metadata": {
            "tags": []
          },
          "execution_count": 8
        }
      ]
    },
    {
      "cell_type": "code",
      "metadata": {
        "colab": {
          "base_uri": "https://localhost:8080/"
        },
        "id": "C09HfQyOJPUk",
        "outputId": "864b70d6-0254-443e-8d2c-8bedcce8798a"
      },
      "source": [
        "b = torch.tensor(a)\n",
        "b.sum(dim=0), b.sum(dim=1), b.sum(dim=2)"
      ],
      "execution_count": 10,
      "outputs": [
        {
          "output_type": "execute_result",
          "data": {
            "text/plain": [
              "(tensor([[2, 4, 6],\n",
              "         [6, 8, 0]]), tensor([[4, 6, 3],\n",
              "         [4, 6, 3]]), tensor([[6, 7],\n",
              "         [6, 7]]))"
            ]
          },
          "metadata": {
            "tags": []
          },
          "execution_count": 10
        }
      ]
    },
    {
      "cell_type": "code",
      "metadata": {
        "id": "mJ4ABpTcPnFR",
        "outputId": "d43fd59e-57c9-4221-c772-fb9828ce91e4",
        "colab": {
          "base_uri": "https://localhost:8080/"
        }
      },
      "source": [
        "# tensor operations\n",
        "# that have a _ suffix are in-place\n",
        "#x.copy_(y)\n",
        "#x.t_()\n",
        "tensor = torch.ones((3, 3))\n",
        "tensor.add_(5)\n",
        "tensor"
      ],
      "execution_count": 26,
      "outputs": [
        {
          "output_type": "execute_result",
          "data": {
            "text/plain": [
              "tensor([[6., 6., 6.],\n",
              "        [6., 6., 6.],\n",
              "        [6., 6., 6.]])"
            ]
          },
          "metadata": {
            "tags": []
          },
          "execution_count": 26
        }
      ]
    },
    {
      "cell_type": "code",
      "metadata": {
        "id": "E5uGJEHvSKOA",
        "outputId": "03c99ae3-f7dc-438c-c0f2-83d136e5f9a4",
        "colab": {
          "base_uri": "https://localhost:8080/"
        }
      },
      "source": [
        "#numpy pytorch bridge\n",
        "#Tensors on the CPU and NumPy arrays can share their underlying memory locations, and changing one will change the other.\n",
        "  # torch -> numpy\n",
        "t = torch.ones(5)\n",
        "n = t.numpy()\n",
        "t, n"
      ],
      "execution_count": 27,
      "outputs": [
        {
          "output_type": "execute_result",
          "data": {
            "text/plain": [
              "(tensor([1., 1., 1., 1., 1.]), array([1., 1., 1., 1., 1.], dtype=float32))"
            ]
          },
          "metadata": {
            "tags": []
          },
          "execution_count": 27
        }
      ]
    },
    {
      "cell_type": "code",
      "metadata": {
        "id": "2l1PK-SwSvzM",
        "outputId": "53c13dc3-c3e3-4e30-caeb-d58fe5ee55f7",
        "colab": {
          "base_uri": "https://localhost:8080/"
        }
      },
      "source": [
        "t.add_(5)\n",
        "t, n"
      ],
      "execution_count": 28,
      "outputs": [
        {
          "output_type": "execute_result",
          "data": {
            "text/plain": [
              "(tensor([6., 6., 6., 6., 6.]), array([6., 6., 6., 6., 6.], dtype=float32))"
            ]
          },
          "metadata": {
            "tags": []
          },
          "execution_count": 28
        }
      ]
    },
    {
      "cell_type": "code",
      "metadata": {
        "id": "56wjZ_2XT7mP",
        "outputId": "8e67f6fb-05ae-4e13-93f8-09e1c6779c3e",
        "colab": {
          "base_uri": "https://localhost:8080/"
        }
      },
      "source": [
        "  #numpy -> torch\n",
        "n = np.ones(3)\n",
        "t = torch.from_numpy(n)\n",
        "n, t"
      ],
      "execution_count": 36,
      "outputs": [
        {
          "output_type": "execute_result",
          "data": {
            "text/plain": [
              "(array([1., 1., 1.]), tensor([1., 1., 1.], dtype=torch.float64))"
            ]
          },
          "metadata": {
            "tags": []
          },
          "execution_count": 36
        }
      ]
    },
    {
      "cell_type": "code",
      "metadata": {
        "id": "aJPFMvktUsBX",
        "outputId": "6b2a7ad8-0286-4c8f-ccbd-c4583ca744f4",
        "colab": {
          "base_uri": "https://localhost:8080/"
        }
      },
      "source": [
        "np.add(n, 1, out=n)\n",
        "n, t"
      ],
      "execution_count": 37,
      "outputs": [
        {
          "output_type": "execute_result",
          "data": {
            "text/plain": [
              "(array([2., 2., 2.]), tensor([2., 2., 2.], dtype=torch.float64))"
            ]
          },
          "metadata": {
            "tags": []
          },
          "execution_count": 37
        }
      ]
    },
    {
      "cell_type": "markdown",
      "metadata": {
        "id": "iJwEg7ONJPUl"
      },
      "source": [
        "2. torch.Autograd"
      ]
    },
    {
      "cell_type": "code",
      "metadata": {
        "id": "Wr9W2r2yJPUl",
        "outputId": "0c85e979-c23c-46aa-cdc8-dcb366970a4a"
      },
      "source": [
        "#torch autograd\n",
        "t = torch.tensor([[1, 2, 3]], dtype=torch.float32, requires_grad=True)\n",
        "out = t.pow(2).sum()\n",
        "out.backward()\n",
        "t.grad"
      ],
      "execution_count": null,
      "outputs": [
        {
          "output_type": "execute_result",
          "data": {
            "text/plain": [
              "tensor([[2., 4., 6.]])"
            ]
          },
          "metadata": {
            "tags": []
          },
          "execution_count": 81
        }
      ]
    }
  ]
}