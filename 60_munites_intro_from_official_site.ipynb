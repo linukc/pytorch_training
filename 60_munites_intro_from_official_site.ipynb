{
  "nbformat": 4,
  "nbformat_minor": 0,
  "metadata": {
    "language_info": {
      "codemirror_mode": {
        "name": "ipython",
        "version": 3
      },
      "file_extension": ".py",
      "mimetype": "text/x-python",
      "name": "python",
      "nbconvert_exporter": "python",
      "pygments_lexer": "ipython3",
      "version": "3.6.8-final"
    },
    "orig_nbformat": 2,
    "kernelspec": {
      "name": "python3",
      "display_name": "Python 3",
      "language": "python"
    },
    "colab": {
      "name": "60_munites_intro_from_official_site.ipynb",
      "provenance": []
    }
  },
  "cells": [
    {
      "cell_type": "code",
      "metadata": {
        "id": "gz6zp_F0JPUe"
      },
      "source": [
        "import numpy as np\n",
        "import torch"
      ],
      "execution_count": 1,
      "outputs": []
    },
    {
      "cell_type": "code",
      "metadata": {
        "id": "NK5-Npf4JgCL",
        "outputId": "bd2fe99f-1cb0-4afc-c6d4-33e815979c8e",
        "colab": {
          "base_uri": "https://localhost:8080/",
          "height": 35
        }
      },
      "source": [
        "torch.__version__"
      ],
      "execution_count": 3,
      "outputs": [
        {
          "output_type": "execute_result",
          "data": {
            "application/vnd.google.colaboratory.intrinsic+json": {
              "type": "string"
            },
            "text/plain": [
              "'1.8.0+cu101'"
            ]
          },
          "metadata": {
            "tags": []
          },
          "execution_count": 3
        }
      ]
    },
    {
      "cell_type": "code",
      "metadata": {
        "id": "pry5tiWFJlKD",
        "outputId": "79115c8c-b088-4543-9ac7-4a9c8ea9e24b",
        "colab": {
          "base_uri": "https://localhost:8080/"
        }
      },
      "source": [
        "torch.cuda.is_available()"
      ],
      "execution_count": 5,
      "outputs": [
        {
          "output_type": "execute_result",
          "data": {
            "text/plain": [
              "False"
            ]
          },
          "metadata": {
            "tags": []
          },
          "execution_count": 5
        }
      ]
    },
    {
      "cell_type": "markdown",
      "metadata": {
        "id": "Ip7BESc9JPUi"
      },
      "source": [
        "1. Tensors (torch.Tensor, Tensor Attributes)"
      ]
    },
    {
      "cell_type": "code",
      "metadata": {
        "id": "V1uZLnEtJPUj",
        "outputId": "ea6d0ba2-b176-4af7-9c5f-9a5794f5b569",
        "colab": {
          "base_uri": "https://localhost:8080/"
        }
      },
      "source": [
        "#from python list or sequence\n",
        "a = [[1_000, 0], [3, 4]]\n",
        "#dtype int8, unsigned int8, int16, int32, int64, float16, float32, float64, boolean\n",
        "x = torch.tensor(a, dtype=torch.bool, device='cpu')\n",
        "x.dtype, x.device, x.stride() #reference to tensor.Storage"
      ],
      "execution_count": 6,
      "outputs": [
        {
          "output_type": "execute_result",
          "data": {
            "text/plain": [
              "(torch.bool, device(type='cpu'), (2, 1))"
            ]
          },
          "metadata": {
            "tags": []
          },
          "execution_count": 6
        }
      ]
    },
    {
      "cell_type": "code",
      "metadata": {
        "id": "7u3JYaLSJPUj",
        "outputId": "867d389f-fb3e-4ada-d860-c7cdeb3f603f"
      },
      "source": [
        "a = np.array([[1_000, 0], [3, 4]])\n",
        "q = torch.as_tensor(a)\n",
        "q[0, 0] = -1\n",
        "a[0, 0], q.device"
      ],
      "execution_count": null,
      "outputs": [
        {
          "output_type": "execute_result",
          "data": {
            "text/plain": [
              "(-1, device(type='cpu'))"
            ]
          },
          "metadata": {
            "tags": []
          },
          "execution_count": 45
        }
      ]
    },
    {
      "cell_type": "code",
      "metadata": {
        "id": "gt-EyQ_XJPUk",
        "outputId": "d401c8da-945e-4e5e-862d-990f23bc3b16",
        "colab": {
          "base_uri": "https://localhost:8080/"
        }
      },
      "source": [
        "v = torch.Tensor()\n",
        "v.dtype #default float32\n",
        "# 9 cpu constructors with specific dtype\n",
        "torch.FloatTensor\n",
        "#x, x.dtype\n",
        "# 9 gpu constructors with specific dtype\n",
        "torch.cuda.FloatTensor"
      ],
      "execution_count": 7,
      "outputs": [
        {
          "output_type": "execute_result",
          "data": {
            "text/plain": [
              "torch.cuda.FloatTensor"
            ]
          },
          "metadata": {
            "tags": []
          },
          "execution_count": 7
        }
      ]
    },
    {
      "cell_type": "code",
      "metadata": {
        "id": "eyRqxW1XJPUk",
        "outputId": "667e6dd9-b5e1-4ebe-dfc7-aeced2006780",
        "colab": {
          "base_uri": "https://localhost:8080/"
        }
      },
      "source": [
        "a = np.array([[[1, 2, 3], \n",
        "               [3, 4, 0]],\n",
        "                        [[1, 2, 3], \n",
        "                        [3, 4, 0]]])\n",
        "a.shape, a.sum(axis=0), a.sum(axis=1), a.sum(axis=2)"
      ],
      "execution_count": 8,
      "outputs": [
        {
          "output_type": "execute_result",
          "data": {
            "text/plain": [
              "((2, 2, 3), array([[2, 4, 6],\n",
              "        [6, 8, 0]]), array([[4, 6, 3],\n",
              "        [4, 6, 3]]), array([[6, 7],\n",
              "        [6, 7]]))"
            ]
          },
          "metadata": {
            "tags": []
          },
          "execution_count": 8
        }
      ]
    },
    {
      "cell_type": "code",
      "metadata": {
        "id": "C09HfQyOJPUk",
        "outputId": "864b70d6-0254-443e-8d2c-8bedcce8798a",
        "colab": {
          "base_uri": "https://localhost:8080/"
        }
      },
      "source": [
        "b = torch.tensor(a)\n",
        "b.sum(dim=0), b.sum(dim=1), b.sum(dim=2)"
      ],
      "execution_count": 10,
      "outputs": [
        {
          "output_type": "execute_result",
          "data": {
            "text/plain": [
              "(tensor([[2, 4, 6],\n",
              "         [6, 8, 0]]), tensor([[4, 6, 3],\n",
              "         [4, 6, 3]]), tensor([[6, 7],\n",
              "         [6, 7]]))"
            ]
          },
          "metadata": {
            "tags": []
          },
          "execution_count": 10
        }
      ]
    },
    {
      "cell_type": "markdown",
      "metadata": {
        "id": "iJwEg7ONJPUl"
      },
      "source": [
        "2. torch.Autograd"
      ]
    },
    {
      "cell_type": "code",
      "metadata": {
        "id": "Wr9W2r2yJPUl",
        "outputId": "0c85e979-c23c-46aa-cdc8-dcb366970a4a"
      },
      "source": [
        "#torch autograd\n",
        "t = torch.tensor([[1, 2, 3]], dtype=torch.float32, requires_grad=True)\n",
        "out = t.pow(2).sum()\n",
        "out.backward()\n",
        "t.grad"
      ],
      "execution_count": null,
      "outputs": [
        {
          "output_type": "execute_result",
          "data": {
            "text/plain": [
              "tensor([[2., 4., 6.]])"
            ]
          },
          "metadata": {
            "tags": []
          },
          "execution_count": 81
        }
      ]
    }
  ]
}