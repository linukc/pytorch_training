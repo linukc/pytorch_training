{
  "nbformat": 4,
  "nbformat_minor": 0,
  "metadata": {
    "colab": {
      "name": "Untitled6.ipynb",
      "provenance": [],
      "authorship_tag": "ABX9TyMEUnI/zm2HGI+Z4q7jyq24"
    },
    "kernelspec": {
      "name": "python3",
      "display_name": "Python 3"
    },
    "language_info": {
      "name": "python"
    }
  },
  "cells": [
    {
      "cell_type": "markdown",
      "metadata": {
        "id": "Fn2ol75ZBF2u"
      },
      "source": [
        "References: https://www.youtube.com/watch?v=x9JiIFvlUwk"
      ]
    },
    {
      "cell_type": "code",
      "metadata": {
        "id": "jo9OsZ17AeWT"
      },
      "source": [
        "import torch"
      ],
      "execution_count": 2,
      "outputs": []
    },
    {
      "cell_type": "markdown",
      "metadata": {
        "id": "dy2nqhOXCWCn"
      },
      "source": [
        "1. Initializing Tensor"
      ]
    },
    {
      "cell_type": "code",
      "metadata": {
        "id": "7S2xenaCCS-4",
        "outputId": "a1884d66-3bd4-4bec-8cd3-b5a28fefd3fc",
        "colab": {
          "base_uri": "https://localhost:8080/"
        }
      },
      "source": [
        "my_tensor = torch.tensor([[1, 2, 3],\n",
        "                          [4, 5, 6]])\n",
        "my_tensor"
      ],
      "execution_count": 4,
      "outputs": [
        {
          "output_type": "execute_result",
          "data": {
            "text/plain": [
              "tensor([[1, 2, 3],\n",
              "        [4, 5, 6]])"
            ]
          },
          "metadata": {
            "tags": []
          },
          "execution_count": 4
        }
      ]
    },
    {
      "cell_type": "code",
      "metadata": {
        "id": "PfC734OrCwOd",
        "outputId": "2912893c-299f-4874-f807-a6f6e3143285",
        "colab": {
          "base_uri": "https://localhost:8080/"
        }
      },
      "source": [
        "my_tensor = torch.tensor([[1, 2, 3],\n",
        "                          [4, 5, 6]], dtype=torch.float64, device='cpu', requires_grad=False)\n",
        "my_tensor"
      ],
      "execution_count": 10,
      "outputs": [
        {
          "output_type": "execute_result",
          "data": {
            "text/plain": [
              "tensor([[1., 2., 3.],\n",
              "        [4., 5., 6.]], dtype=torch.float64)"
            ]
          },
          "metadata": {
            "tags": []
          },
          "execution_count": 10
        }
      ]
    },
    {
      "cell_type": "code",
      "metadata": {
        "id": "TInU9T49DgSI",
        "outputId": "4ceaa6bf-815b-43c7-bae6-3fb3ccc05fb3",
        "colab": {
          "base_uri": "https://localhost:8080/"
        }
      },
      "source": [
        "# other common initialization methods\n",
        "x = torch.empty(size=(3, 3))\n",
        "x\n",
        "# !garbage in memory"
      ],
      "execution_count": 13,
      "outputs": [
        {
          "output_type": "execute_result",
          "data": {
            "text/plain": [
              "tensor([[-4.4957e-18,  3.0628e-41,  1.5975e-43],\n",
              "        [ 1.3873e-43,  1.4574e-43,  6.4460e-44],\n",
              "        [ 1.4153e-43,  1.5274e-43,  1.5695e-43]])"
            ]
          },
          "metadata": {
            "tags": []
          },
          "execution_count": 13
        }
      ]
    },
    {
      "cell_type": "code",
      "metadata": {
        "id": "Xy5Lela2EBT3",
        "outputId": "929580f7-c00c-4b82-b939-6dfc4f5d05f9",
        "colab": {
          "base_uri": "https://localhost:8080/"
        }
      },
      "source": [
        "x = torch.zeros(size=(3, 3))\n",
        "x"
      ],
      "execution_count": 14,
      "outputs": [
        {
          "output_type": "execute_result",
          "data": {
            "text/plain": [
              "tensor([[0., 0., 0.],\n",
              "        [0., 0., 0.],\n",
              "        [0., 0., 0.]])"
            ]
          },
          "metadata": {
            "tags": []
          },
          "execution_count": 14
        }
      ]
    },
    {
      "cell_type": "code",
      "metadata": {
        "id": "C645oKNxDVMX",
        "outputId": "6bc2207e-b5ee-4aba-fe1b-e35a18a74aa3",
        "colab": {
          "base_uri": "https://localhost:8080/"
        }
      },
      "source": [
        "x = torch.ones(size=(3, 3))\n",
        "x"
      ],
      "execution_count": 15,
      "outputs": [
        {
          "output_type": "execute_result",
          "data": {
            "text/plain": [
              "tensor([[1., 1., 1.],\n",
              "        [1., 1., 1.],\n",
              "        [1., 1., 1.]])"
            ]
          },
          "metadata": {
            "tags": []
          },
          "execution_count": 15
        }
      ]
    },
    {
      "cell_type": "code",
      "metadata": {
        "id": "Vznit9MhEfRP",
        "outputId": "d02d4e32-496f-4fc7-8672-d7965fc8b58c",
        "colab": {
          "base_uri": "https://localhost:8080/"
        }
      },
      "source": [
        "x = torch.rand(size=(3, 3))\n",
        "x\n",
        "# !from zero to one with uniform distribution"
      ],
      "execution_count": 16,
      "outputs": [
        {
          "output_type": "execute_result",
          "data": {
            "text/plain": [
              "tensor([[0.4637, 0.1520, 0.5624],\n",
              "        [0.1637, 0.8363, 0.4821],\n",
              "        [0.8666, 0.3086, 0.5968]])"
            ]
          },
          "metadata": {
            "tags": []
          },
          "execution_count": 16
        }
      ]
    },
    {
      "cell_type": "code",
      "metadata": {
        "id": "TdHL5aZykh-p",
        "outputId": "01229655-c0c0-401f-c2aa-cedfdacb52d9",
        "colab": {
          "base_uri": "https://localhost:8080/"
        }
      },
      "source": [
        "x = torch.eye(3)\n",
        "x"
      ],
      "execution_count": 4,
      "outputs": [
        {
          "output_type": "execute_result",
          "data": {
            "text/plain": [
              "tensor([[1., 0., 0.],\n",
              "        [0., 1., 0.],\n",
              "        [0., 0., 1.]])"
            ]
          },
          "metadata": {
            "tags": []
          },
          "execution_count": 4
        }
      ]
    },
    {
      "cell_type": "code",
      "metadata": {
        "id": "Um-amQFiDLad",
        "outputId": "3d006014-059d-45fc-97a3-a5ccc5f03040",
        "colab": {
          "base_uri": "https://localhost:8080/"
        }
      },
      "source": [
        "x = torch.arange(start=1, end=5, step=1)\n",
        "x"
      ],
      "execution_count": 10,
      "outputs": [
        {
          "output_type": "execute_result",
          "data": {
            "text/plain": [
              "tensor([1, 2, 3, 4])"
            ]
          },
          "metadata": {
            "tags": []
          },
          "execution_count": 10
        }
      ]
    },
    {
      "cell_type": "code",
      "metadata": {
        "id": "L4-CuaUdlJ4V",
        "outputId": "c8607301-5bfc-4dfe-d17b-60e822835e97",
        "colab": {
          "base_uri": "https://localhost:8080/"
        }
      },
      "source": [
        "x = torch.linspace(start=0.1, end=1, steps=10)\n",
        "x"
      ],
      "execution_count": 8,
      "outputs": [
        {
          "output_type": "execute_result",
          "data": {
            "text/plain": [
              "tensor([0.1000, 0.2000, 0.3000, 0.4000, 0.5000, 0.6000, 0.7000, 0.8000, 0.9000,\n",
              "        1.0000])"
            ]
          },
          "metadata": {
            "tags": []
          },
          "execution_count": 8
        }
      ]
    },
    {
      "cell_type": "code",
      "metadata": {
        "id": "J7IKtd1NlYYP",
        "outputId": "0351c546-fa80-4488-9ba2-d7f6118eea11",
        "colab": {
          "base_uri": "https://localhost:8080/"
        }
      },
      "source": [
        "x = torch.empty(size=(1, 5)).normal_(mean=0, std=1)\n",
        "x"
      ],
      "execution_count": 11,
      "outputs": [
        {
          "output_type": "execute_result",
          "data": {
            "text/plain": [
              "tensor([[-0.4634, -0.4561, -1.4558,  0.6529,  0.2312]])"
            ]
          },
          "metadata": {
            "tags": []
          },
          "execution_count": 11
        }
      ]
    },
    {
      "cell_type": "code",
      "metadata": {
        "id": "W_674haalVm-",
        "outputId": "73f15fb6-9969-461d-a848-3f32f0f9b412",
        "colab": {
          "base_uri": "https://localhost:8080/"
        }
      },
      "source": [
        "x = torch.empty(size=(1, 5)).uniform_(0, 1)\n",
        "x"
      ],
      "execution_count": 12,
      "outputs": [
        {
          "output_type": "execute_result",
          "data": {
            "text/plain": [
              "tensor([[0.4169, 0.7893, 0.8531, 0.5122, 0.4344]])"
            ]
          },
          "metadata": {
            "tags": []
          },
          "execution_count": 12
        }
      ]
    },
    {
      "cell_type": "code",
      "metadata": {
        "id": "A60uPwmpmB4z",
        "outputId": "2f54fbf0-e151-4f61-d5c7-aa9936591776",
        "colab": {
          "base_uri": "https://localhost:8080/"
        }
      },
      "source": [
        "x = torch.diag(torch.ones(size=(3, 3)))\n",
        "x"
      ],
      "execution_count": 13,
      "outputs": [
        {
          "output_type": "execute_result",
          "data": {
            "text/plain": [
              "tensor([1., 1., 1.])"
            ]
          },
          "metadata": {
            "tags": []
          },
          "execution_count": 13
        }
      ]
    },
    {
      "cell_type": "code",
      "metadata": {
        "id": "iVhnEBEAmOzW",
        "outputId": "060c77cf-dc3f-45aa-c96c-241cc875b91b",
        "colab": {
          "base_uri": "https://localhost:8080/"
        }
      },
      "source": [
        "#from different types (int, float, double)\n",
        "tensor = torch.arange(4)\n",
        "tensor.bool()"
      ],
      "execution_count": 15,
      "outputs": [
        {
          "output_type": "execute_result",
          "data": {
            "text/plain": [
              "tensor([False,  True,  True,  True])"
            ]
          },
          "metadata": {
            "tags": []
          },
          "execution_count": 15
        }
      ]
    },
    {
      "cell_type": "code",
      "metadata": {
        "id": "ixgSkDWwmhXw",
        "outputId": "26b8cc06-45bf-44e8-f4ff-4cd8b738e581",
        "colab": {
          "base_uri": "https://localhost:8080/"
        }
      },
      "source": [
        "tensor.short()"
      ],
      "execution_count": 17,
      "outputs": [
        {
          "output_type": "execute_result",
          "data": {
            "text/plain": [
              "tensor([0, 1, 2, 3], dtype=torch.int16)"
            ]
          },
          "metadata": {
            "tags": []
          },
          "execution_count": 17
        }
      ]
    },
    {
      "cell_type": "code",
      "metadata": {
        "id": "2ltRleNCmqZK",
        "outputId": "9e630778-b474-437b-b211-f76c0e5272eb",
        "colab": {
          "base_uri": "https://localhost:8080/"
        }
      },
      "source": [
        "tensor.long() #int64"
      ],
      "execution_count": 19,
      "outputs": [
        {
          "output_type": "execute_result",
          "data": {
            "text/plain": [
              "tensor([0, 1, 2, 3])"
            ]
          },
          "metadata": {
            "tags": []
          },
          "execution_count": 19
        }
      ]
    },
    {
      "cell_type": "code",
      "metadata": {
        "id": "74EKG_irmtnQ",
        "outputId": "acdc2329-8a05-4845-ddd9-068f2d79267d",
        "colab": {
          "base_uri": "https://localhost:8080/"
        }
      },
      "source": [
        "tensor.half()"
      ],
      "execution_count": 20,
      "outputs": [
        {
          "output_type": "execute_result",
          "data": {
            "text/plain": [
              "tensor([0., 1., 2., 3.], dtype=torch.float16)"
            ]
          },
          "metadata": {
            "tags": []
          },
          "execution_count": 20
        }
      ]
    },
    {
      "cell_type": "code",
      "metadata": {
        "id": "HnU08nkemxYJ",
        "outputId": "424b18d3-9a2d-4ed8-afef-0b3392fc8b32",
        "colab": {
          "base_uri": "https://localhost:8080/"
        }
      },
      "source": [
        "tensor.float() #float32"
      ],
      "execution_count": 21,
      "outputs": [
        {
          "output_type": "execute_result",
          "data": {
            "text/plain": [
              "tensor([0., 1., 2., 3.])"
            ]
          },
          "metadata": {
            "tags": []
          },
          "execution_count": 21
        }
      ]
    },
    {
      "cell_type": "code",
      "metadata": {
        "id": "p5iRDQJkm9Cx",
        "outputId": "888828ee-cd84-488c-cd89-63324aaeed63",
        "colab": {
          "base_uri": "https://localhost:8080/"
        }
      },
      "source": [
        "tensor.double() "
      ],
      "execution_count": 22,
      "outputs": [
        {
          "output_type": "execute_result",
          "data": {
            "text/plain": [
              "tensor([0., 1., 2., 3.], dtype=torch.float64)"
            ]
          },
          "metadata": {
            "tags": []
          },
          "execution_count": 22
        }
      ]
    },
    {
      "cell_type": "code",
      "metadata": {
        "id": "0-QCDVydnBf0"
      },
      "source": [
        "# from numpy\n",
        "import numpy as np\n",
        "np_array = np.zeros((5, 5))\n",
        "tensor = torch.from_numpy(np_array)\n",
        "np_array_bzck = tensor.numpy()"
      ],
      "execution_count": null,
      "outputs": []
    },
    {
      "cell_type": "markdown",
      "metadata": {
        "id": "0qYSOZpVnaF-"
      },
      "source": [
        "2. Tensor math & Comparison Operation"
      ]
    },
    {
      "cell_type": "code",
      "metadata": {
        "id": "FQw7j_oHnfrq"
      },
      "source": [
        "x = torch.tensor([1, 2, 3])\n",
        "y = torch.tensor([9, 8, 7])"
      ],
      "execution_count": 24,
      "outputs": []
    },
    {
      "cell_type": "code",
      "metadata": {
        "id": "SLH2F2KjnpeU",
        "outputId": "edcf4b7c-59da-496d-98dc-404fd1c53350",
        "colab": {
          "base_uri": "https://localhost:8080/"
        }
      },
      "source": [
        "#Addition\n",
        "z1 = torch.empty(3)\n",
        "torch.add(x, y, out=z1)\n",
        "z1"
      ],
      "execution_count": 26,
      "outputs": [
        {
          "output_type": "execute_result",
          "data": {
            "text/plain": [
              "tensor([10., 10., 10.])"
            ]
          },
          "metadata": {
            "tags": []
          },
          "execution_count": 26
        }
      ]
    },
    {
      "cell_type": "code",
      "metadata": {
        "id": "lRFOBRTfnmBr",
        "outputId": "26dcf4e9-8ccd-4c97-8766-c3c7011b656a",
        "colab": {
          "base_uri": "https://localhost:8080/"
        }
      },
      "source": [
        "z2 = torch.add(x, y)\n",
        "z2"
      ],
      "execution_count": 28,
      "outputs": [
        {
          "output_type": "execute_result",
          "data": {
            "text/plain": [
              "tensor([10, 10, 10])"
            ]
          },
          "metadata": {
            "tags": []
          },
          "execution_count": 28
        }
      ]
    },
    {
      "cell_type": "code",
      "metadata": {
        "id": "0eJXKE9gn8QV",
        "outputId": "77c86a2b-86d4-4766-cf3d-6ef5fa3fb7f4",
        "colab": {
          "base_uri": "https://localhost:8080/"
        }
      },
      "source": [
        "z = x + y\n",
        "z"
      ],
      "execution_count": 29,
      "outputs": [
        {
          "output_type": "execute_result",
          "data": {
            "text/plain": [
              "tensor([10, 10, 10])"
            ]
          },
          "metadata": {
            "tags": []
          },
          "execution_count": 29
        }
      ]
    },
    {
      "cell_type": "code",
      "metadata": {
        "id": "D1WSHtAin-Ol",
        "outputId": "23578575-0fa6-49a8-a753-28443a527182",
        "colab": {
          "base_uri": "https://localhost:8080/"
        }
      },
      "source": [
        "#Subtraction\n",
        "z = x - y\n",
        "z"
      ],
      "execution_count": 30,
      "outputs": [
        {
          "output_type": "execute_result",
          "data": {
            "text/plain": [
              "tensor([-8, -6, -4])"
            ]
          },
          "metadata": {
            "tags": []
          },
          "execution_count": 30
        }
      ]
    },
    {
      "cell_type": "code",
      "metadata": {
        "id": "DWWfOeBnoHos",
        "outputId": "3224f9da-22d2-4bf9-b0b2-2eded0000767",
        "colab": {
          "base_uri": "https://localhost:8080/"
        }
      },
      "source": [
        "#Division\n",
        "z = torch.true_divide(x, y)\n",
        "z\n",
        "#element-wize division in case of same sizes"
      ],
      "execution_count": 31,
      "outputs": [
        {
          "output_type": "execute_result",
          "data": {
            "text/plain": [
              "tensor([0.1111, 0.2500, 0.4286])"
            ]
          },
          "metadata": {
            "tags": []
          },
          "execution_count": 31
        }
      ]
    },
    {
      "cell_type": "code",
      "metadata": {
        "id": "4bH2xK4En6om",
        "outputId": "928891bd-c4ae-4a62-b2fc-751b76f9a0d6",
        "colab": {
          "base_uri": "https://localhost:8080/"
        }
      },
      "source": [
        "#Inplace operations - undescore, no copy\n",
        "t = torch.zeros(3)\n",
        "t.add_(x)\n",
        "t"
      ],
      "execution_count": 32,
      "outputs": [
        {
          "output_type": "execute_result",
          "data": {
            "text/plain": [
              "tensor([1., 2., 3.])"
            ]
          },
          "metadata": {
            "tags": []
          },
          "execution_count": 32
        }
      ]
    },
    {
      "cell_type": "code",
      "metadata": {
        "id": "W6fb9jluok0m",
        "outputId": "6cc07668-3ad5-4895-da9a-add977189e87",
        "colab": {
          "base_uri": "https://localhost:8080/"
        }
      },
      "source": [
        "t += x\n",
        "t"
      ],
      "execution_count": 34,
      "outputs": [
        {
          "output_type": "execute_result",
          "data": {
            "text/plain": [
              "tensor([3., 6., 9.])"
            ]
          },
          "metadata": {
            "tags": []
          },
          "execution_count": 34
        }
      ]
    },
    {
      "cell_type": "code",
      "metadata": {
        "id": "vOJjh2A3omp7",
        "outputId": "dfd921c6-0e01-468e-9ca1-ad60e2616aa1",
        "colab": {
          "base_uri": "https://localhost:8080/"
        }
      },
      "source": [
        "# Exponentiation\n",
        "z = x.pow(2)\n",
        "z"
      ],
      "execution_count": 36,
      "outputs": [
        {
          "output_type": "execute_result",
          "data": {
            "text/plain": [
              "tensor([1, 4, 9])"
            ]
          },
          "metadata": {
            "tags": []
          },
          "execution_count": 36
        }
      ]
    },
    {
      "cell_type": "code",
      "metadata": {
        "id": "WJuVA9r_o102",
        "outputId": "bb33c627-a246-4956-b1db-2718d6b4fbd6",
        "colab": {
          "base_uri": "https://localhost:8080/"
        }
      },
      "source": [
        "#Simple comparison\n",
        "z = x > 0\n",
        "z"
      ],
      "execution_count": 37,
      "outputs": [
        {
          "output_type": "execute_result",
          "data": {
            "text/plain": [
              "tensor([True, True, True])"
            ]
          },
          "metadata": {
            "tags": []
          },
          "execution_count": 37
        }
      ]
    },
    {
      "cell_type": "code",
      "metadata": {
        "id": "cQr70nZ6pJKD",
        "outputId": "927ca2c7-2663-46b1-8d6e-37e83ca45a07",
        "colab": {
          "base_uri": "https://localhost:8080/"
        }
      },
      "source": [
        "#Matrix Multiplication\n",
        "x1 = torch.rand((2, 5))\n",
        "x2 = torch.rand((5, 3))\n",
        "x3 = torch.mm(x1, x2)\n",
        "x3 # x3 = x1.mm(x2)"
      ],
      "execution_count": 38,
      "outputs": [
        {
          "output_type": "execute_result",
          "data": {
            "text/plain": [
              "tensor([[1.3406, 1.3445, 0.7344],\n",
              "        [1.8382, 2.1327, 1.2558]])"
            ]
          },
          "metadata": {
            "tags": []
          },
          "execution_count": 38
        }
      ]
    },
    {
      "cell_type": "code",
      "metadata": {
        "id": "fY2OFI6_pZEy",
        "outputId": "73a5b08e-6b83-440c-d00f-03a688ad6ede",
        "colab": {
          "base_uri": "https://localhost:8080/"
        }
      },
      "source": [
        "# matrix exponentiation\n",
        "matrix_exp = torch.rand((5, 5))\n",
        "matrix_exp.matrix_power(3)\n",
        "matrix_exp"
      ],
      "execution_count": 40,
      "outputs": [
        {
          "output_type": "execute_result",
          "data": {
            "text/plain": [
              "tensor([[0.6062, 0.6745, 0.2960, 0.5609, 0.7472],\n",
              "        [0.2499, 0.8288, 0.1379, 0.7971, 0.1815],\n",
              "        [0.8086, 0.8165, 0.7830, 0.9621, 0.5127],\n",
              "        [0.6355, 0.4360, 0.7309, 0.2844, 0.4619],\n",
              "        [0.4297, 0.8848, 0.2912, 0.3531, 0.2177]])"
            ]
          },
          "metadata": {
            "tags": []
          },
          "execution_count": 40
        }
      ]
    },
    {
      "cell_type": "code",
      "metadata": {
        "id": "ErpkXuOipzLq",
        "outputId": "2e0388cd-75d8-4236-b5c7-557428046256",
        "colab": {
          "base_uri": "https://localhost:8080/"
        }
      },
      "source": [
        "# Element wise mult\n",
        "z = x * y\n",
        "z"
      ],
      "execution_count": 42,
      "outputs": [
        {
          "output_type": "execute_result",
          "data": {
            "text/plain": [
              "tensor([ 9, 16, 21])"
            ]
          },
          "metadata": {
            "tags": []
          },
          "execution_count": 42
        }
      ]
    },
    {
      "cell_type": "code",
      "metadata": {
        "id": "hKZsBKAap-5U",
        "outputId": "4b0ccedf-284a-48de-c5c7-5434c3300d3a",
        "colab": {
          "base_uri": "https://localhost:8080/"
        }
      },
      "source": [
        "#dot product\n",
        "z = torch.dot(x, y)\n",
        "z"
      ],
      "execution_count": 44,
      "outputs": [
        {
          "output_type": "execute_result",
          "data": {
            "text/plain": [
              "tensor(46)"
            ]
          },
          "metadata": {
            "tags": []
          },
          "execution_count": 44
        }
      ]
    },
    {
      "cell_type": "code",
      "metadata": {
        "id": "cfsBs3qtqGP8"
      },
      "source": [
        "# Batch Matrix Multiplication\n",
        "batch = 32\n",
        "n = 10\n",
        "m = 20\n",
        "p = 30"
      ],
      "execution_count": 45,
      "outputs": []
    },
    {
      "cell_type": "code",
      "metadata": {
        "id": "hSH2FLkfqbjw"
      },
      "source": [
        "tensor1 = torch.rand((batch, n, m))\n",
        "tensor2 = torch.rand((batch, m, p))\n",
        "out_bmm = torch.bmm(tensor1, tensor2)\n",
        "assert out_bmm.shape == (batch, n, p)"
      ],
      "execution_count": 51,
      "outputs": []
    },
    {
      "cell_type": "code",
      "metadata": {
        "id": "OPqn2HdIq4eD",
        "outputId": "2b4319e8-bdfa-470c-8a8a-d90dfcc26cb8",
        "colab": {
          "base_uri": "https://localhost:8080/"
        }
      },
      "source": [
        "# Example of Broadcasting\n",
        "x1 = torch.ones((5, 5)) * 5\n",
        "x2 = torch.ones((1, 5))\n",
        "z = x1 - x2 # so it will automatically expanding\n",
        "z"
      ],
      "execution_count": 52,
      "outputs": [
        {
          "output_type": "execute_result",
          "data": {
            "text/plain": [
              "tensor([[4., 4., 4., 4., 4.],\n",
              "        [4., 4., 4., 4., 4.],\n",
              "        [4., 4., 4., 4., 4.],\n",
              "        [4., 4., 4., 4., 4.],\n",
              "        [4., 4., 4., 4., 4.]])"
            ]
          },
          "metadata": {
            "tags": []
          },
          "execution_count": 52
        }
      ]
    },
    {
      "cell_type": "code",
      "metadata": {
        "id": "G--EdLxzrhzZ"
      },
      "source": [
        "# Other useful tensor operations\n",
        "sum_x = torch.sum(x, dim=0)\n",
        "values, indeces = torch.max(x, dim=0)\n",
        "values, indeces = torch.min(x, dim=0)\n",
        "abs_x = torch.abs(x)\n",
        "z = torch.argmax(x, dim=0)\n",
        "mean_x = torch.mean(x.float(), dim=0)\n",
        "z = torch.eq(x, y)\n",
        "sorted_y, indices = torch.sort(y, dim=0, descending=False)\n",
        "z = torch.clamp(x, min=0, max=10)\n",
        "\n",
        "x = torch.tensor([1, 0, 1, 1, 1], dtype=bool)\n",
        "z = torch.any(x)\n",
        "z = torch.all(x)\n",
        "\n",
        "\n"
      ],
      "execution_count": null,
      "outputs": []
    },
    {
      "cell_type": "markdown",
      "metadata": {
        "id": "uCV3I7NAszKo"
      },
      "source": [
        "3. Indexing"
      ]
    },
    {
      "cell_type": "code",
      "metadata": {
        "id": "VXG2SwdFqfdg",
        "outputId": "95dbe0e1-4b3d-430e-b762-85247ede62ad",
        "colab": {
          "base_uri": "https://localhost:8080/"
        }
      },
      "source": [
        "batch_size = 10\n",
        "features = 25\n",
        "x = torch.rand((batch_size, features))\n",
        "x[0].shape, x[:, 0].shape"
      ],
      "execution_count": 54,
      "outputs": [
        {
          "output_type": "execute_result",
          "data": {
            "text/plain": [
              "(torch.Size([25]), torch.Size([10]))"
            ]
          },
          "metadata": {
            "tags": []
          },
          "execution_count": 54
        }
      ]
    },
    {
      "cell_type": "code",
      "metadata": {
        "id": "k0pcO8v6tf-A",
        "outputId": "0730547b-2ff1-465e-aac6-5dbb5a6e7fbf",
        "colab": {
          "base_uri": "https://localhost:8080/"
        }
      },
      "source": [
        "x = torch.arange(10)\n",
        "indices = [2, 5, 8]\n",
        "x[indices]"
      ],
      "execution_count": 56,
      "outputs": [
        {
          "output_type": "execute_result",
          "data": {
            "text/plain": [
              "tensor([2, 5, 8])"
            ]
          },
          "metadata": {
            "tags": []
          },
          "execution_count": 56
        }
      ]
    },
    {
      "cell_type": "code",
      "metadata": {
        "id": "enfw60Abt8OE",
        "outputId": "f0089dc6-ff39-47ac-ee6f-9af5e9d706e5",
        "colab": {
          "base_uri": "https://localhost:8080/"
        }
      },
      "source": [
        "x = torch.arange(10)\n",
        "x[(x < 2) | (x > 8)]"
      ],
      "execution_count": 57,
      "outputs": [
        {
          "output_type": "execute_result",
          "data": {
            "text/plain": [
              "tensor([0, 1, 9])"
            ]
          },
          "metadata": {
            "tags": []
          },
          "execution_count": 57
        }
      ]
    },
    {
      "cell_type": "code",
      "metadata": {
        "id": "74d-ahOdt6vl",
        "outputId": "44f7780d-c836-4945-fb0a-e8de153f9ed0",
        "colab": {
          "base_uri": "https://localhost:8080/"
        }
      },
      "source": [
        "x = torch.where(x > 5, x, x*2)\n",
        "x"
      ],
      "execution_count": 59,
      "outputs": [
        {
          "output_type": "execute_result",
          "data": {
            "text/plain": [
              "tensor([ 0,  2,  4,  6,  8, 10,  6,  7,  8,  9])"
            ]
          },
          "metadata": {
            "tags": []
          },
          "execution_count": 59
        }
      ]
    },
    {
      "cell_type": "code",
      "metadata": {
        "id": "Rz6Y4NcfuuZM",
        "outputId": "4f2b4cb8-ae96-4f77-e0dd-86e24b5a70de",
        "colab": {
          "base_uri": "https://localhost:8080/"
        }
      },
      "source": [
        "x.ndimension(), x.numel()"
      ],
      "execution_count": 66,
      "outputs": [
        {
          "output_type": "execute_result",
          "data": {
            "text/plain": [
              "(1, 10)"
            ]
          },
          "metadata": {
            "tags": []
          },
          "execution_count": 66
        }
      ]
    },
    {
      "cell_type": "markdown",
      "metadata": {
        "id": "_7WwVj9YvPU5"
      },
      "source": [
        "4. Tensor Reshaping"
      ]
    },
    {
      "cell_type": "code",
      "metadata": {
        "id": "CAegbH2AvTQg"
      },
      "source": [
        "x = torch.arange(9)\n",
        "x_3x3 = x.view(3, 3)\n",
        "x_3x3 = x.reshape(3, 3)"
      ],
      "execution_count": null,
      "outputs": []
    },
    {
      "cell_type": "code",
      "metadata": {
        "id": "-JtgD23TvrIN",
        "outputId": "6669cc82-4f01-473f-ae3c-51001c9cc062",
        "colab": {
          "base_uri": "https://localhost:8080/"
        }
      },
      "source": [
        "x1 = torch.rand((2, 5))\n",
        "x2 = torch.rand((2, 5))\n",
        "torch.cat((x1, x2), dim=0).shape, torch.cat((x1, x2), dim=1).shape"
      ],
      "execution_count": 69,
      "outputs": [
        {
          "output_type": "execute_result",
          "data": {
            "text/plain": [
              "(torch.Size([4, 5]), torch.Size([2, 10]))"
            ]
          },
          "metadata": {
            "tags": []
          },
          "execution_count": 69
        }
      ]
    },
    {
      "cell_type": "code",
      "metadata": {
        "id": "fiWU-gavwULa",
        "outputId": "8dd45ef5-0e49-4acb-a841-b8afb7bef5a0",
        "colab": {
          "base_uri": "https://localhost:8080/"
        }
      },
      "source": [
        "z = x1.view(-1)\n",
        "z.shape"
      ],
      "execution_count": 70,
      "outputs": [
        {
          "output_type": "execute_result",
          "data": {
            "text/plain": [
              "torch.Size([10])"
            ]
          },
          "metadata": {
            "tags": []
          },
          "execution_count": 70
        }
      ]
    },
    {
      "cell_type": "code",
      "metadata": {
        "id": "Gf1fBs2swhrz",
        "outputId": "a1fe690e-9300-43fb-b3fe-e2767ebcd15f",
        "colab": {
          "base_uri": "https://localhost:8080/"
        }
      },
      "source": [
        "x = torch.rand((10, 1, 2))\n",
        "z = x.permute(0, 2, 1)\n",
        "z.shape"
      ],
      "execution_count": 73,
      "outputs": [
        {
          "output_type": "execute_result",
          "data": {
            "text/plain": [
              "torch.Size([10, 2, 1])"
            ]
          },
          "metadata": {
            "tags": []
          },
          "execution_count": 73
        }
      ]
    },
    {
      "cell_type": "code",
      "metadata": {
        "id": "Uz9fpRpQw5j9"
      },
      "source": [
        "torch.squeeze()\n",
        "torch.unsqueeze()"
      ],
      "execution_count": null,
      "outputs": []
    },
    {
      "cell_type": "markdown",
      "metadata": {
        "id": "ivI0jKIxBFbM"
      },
      "source": [
        "Операции преобразования типа item для извлечения данных из скаляра или tolist() в Python или numpy для перевода в numpy - для required_grad = True тензоров производят операцию аналогичкную detach (осфобождают данные от зависимости к autograd графу, см видео по автограду)"
      ]
    }
  ]
}