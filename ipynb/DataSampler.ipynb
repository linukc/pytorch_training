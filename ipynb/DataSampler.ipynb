{
  "nbformat": 4,
  "nbformat_minor": 0,
  "metadata": {
    "colab": {
      "name": "Untitled8.ipynb",
      "provenance": [],
      "authorship_tag": "ABX9TyPjvVLrzs+gEmwafSRelfdk"
    },
    "kernelspec": {
      "name": "python3",
      "display_name": "Python 3"
    },
    "language_info": {
      "name": "python"
    }
  },
  "cells": [
    {
      "cell_type": "markdown",
      "metadata": {
        "id": "gLfy9Ig_s4ac"
      },
      "source": [
        "доделать \n",
        "https://pytorch.org/tutorials/intermediate/torchvision_tutorial.html\n",
        "\n",
        "https://towardsdatascience.com/pytorch-basics-sampling-samplers-2a0f29f0bf2a\n",
        "\n",
        "https://www.youtube.com/watch?v=4JFVhJyTZ44\n",
        "\n",
        "https://pytorch.org/docs/stable/data.html?highlight=sampler#torch.utils.data.Sampler\n"
      ]
    },
    {
      "cell_type": "code",
      "metadata": {
        "id": "JJkoykqzs3zb"
      },
      "source": [
        ""
      ],
      "execution_count": null,
      "outputs": []
    }
  ]
}